{
 "cells": [
  {
   "cell_type": "code",
   "execution_count": null,
   "id": "11ba8e58-53aa-4d56-a273-225aae4c6c5e",
   "metadata": {},
   "outputs": [],
   "source": [
    "# 1.What are the types of Applications?"
   ]
  },
  {
   "cell_type": "code",
   "execution_count": null,
   "id": "2eac7e50-5b2a-4c29-b575-0c5d472fa2d7",
   "metadata": {},
   "outputs": [],
   "source": [
    "application come in all shapes and sizes,designed to make our lives easier,more fun, or more productive.from web apps like google docs \n",
    "to mobile apps likes whatsapp, and from desktop staples like microsoft office to gaming favorites like fortnite , there's an app for everythig.\n",
    "whether it's managing business with enterprise software like SAP or learning new skills with educational apps like duolngo,\n",
    "each type serves aunique purpose."
   ]
  },
  {
   "cell_type": "code",
   "execution_count": null,
   "id": "004517a0-5d40-48e7-a5ee-34f5ba439730",
   "metadata": {},
   "outputs": [],
   "source": [
    "# 2.What is programing"
   ]
  },
  {
   "cell_type": "code",
   "execution_count": null,
   "id": "abc94246-cc7b-4d34-8bed-3149fc0b7f6a",
   "metadata": {},
   "outputs": [],
   "source": [
    "Programming is a technological process that involves creating instructions for a computer to follow in order to solve problems"
   ]
  },
  {
   "cell_type": "code",
   "execution_count": null,
   "id": "b293025b-68bd-48be-9ca2-9dda28203bc3",
   "metadata": {},
   "outputs": [],
   "source": [
    "# 3.What is Python?"
   ]
  },
  {
   "cell_type": "code",
   "execution_count": null,
   "id": "07bec205-431d-4fff-b998-7e2f395ec603",
   "metadata": {},
   "outputs": [],
   "source": [
    "python is a programming language that's used to build websites,software , and analyze data."
   ]
  },
  {
   "cell_type": "code",
   "execution_count": null,
   "id": "1ad458a4-c79d-47e7-8137-7bba3ccd432f",
   "metadata": {},
   "outputs": [],
   "source": [
    "# 4.rite a Python program to check if a number is positive, negative or zero."
   ]
  },
  {
   "cell_type": "code",
   "execution_count": 3,
   "id": "920a5315-7357-4cb3-80f1-4b6134055d5f",
   "metadata": {},
   "outputs": [
    {
     "name": "stdin",
     "output_type": "stream",
     "text": [
      "enter number -9\n"
     ]
    },
    {
     "name": "stdout",
     "output_type": "stream",
     "text": [
      "negative\n"
     ]
    }
   ],
   "source": [
    "a = int(input(\"enter number\"))\n",
    "if a>0:\n",
    "    print(\"positive\")\n",
    "elif a<0:\n",
    "    print(\"negative\")\n"
   ]
  },
  {
   "cell_type": "code",
   "execution_count": null,
   "id": "172efdac-b064-4205-a214-7fe9a3f286ce",
   "metadata": {},
   "outputs": [],
   "source": [
    "# 5.Write a Python program to get the Factorial number of given numbers."
   ]
  },
  {
   "cell_type": "code",
   "execution_count": 5,
   "id": "bbb3cfb1-4403-4dc0-9f33-04c173a6c3f5",
   "metadata": {},
   "outputs": [
    {
     "name": "stdin",
     "output_type": "stream",
     "text": [
      "value 5\n"
     ]
    },
    {
     "name": "stdout",
     "output_type": "stream",
     "text": [
      "120\n"
     ]
    }
   ],
   "source": [
    "n = int(input(\"value\"))\n",
    "fact = 1\n",
    "i = 1\n",
    "while i<=n:\n",
    "    fact *=i\n",
    "    i +=1\n",
    "print(fact)"
   ]
  },
  {
   "cell_type": "code",
   "execution_count": null,
   "id": "24d0290f-de4c-427f-a98f-58d6a43cbf19",
   "metadata": {},
   "outputs": [],
   "source": [
    "# 6).Write a Python program to get the Fibonacci series of given range."
   ]
  },
  {
   "cell_type": "code",
   "execution_count": 4,
   "id": "3d43fdf1-ecea-4449-a078-3c859b3bbab2",
   "metadata": {},
   "outputs": [
    {
     "name": "stdin",
     "output_type": "stream",
     "text": [
      "enter value 10\n"
     ]
    },
    {
     "name": "stdout",
     "output_type": "stream",
     "text": [
      "fibonacci series:\n",
      "0 1 1 2 3 5 8 13 21 34 55 89 "
     ]
    }
   ],
   "source": [
    "num =int(input(\"enter value\"))\n",
    "print(\"fibonacci series:\")\n",
    "num1=0\n",
    "num2 = 1\n",
    "count =0\n",
    "print(num1,end=\" \")\n",
    "print(num2,end = \" \")\n",
    "while count<num:\n",
    "    result =num1+num2\n",
    "    print(result,end = \" \")\n",
    "    num1=num2\n",
    "    num2=result\n",
    "    count = count+1"
   ]
  },
  {
   "cell_type": "code",
   "execution_count": null,
   "id": "47ea500e-a2b5-400f-9f48-fbfc7ddb729e",
   "metadata": {},
   "outputs": [],
   "source": [
    "# 7.how memory is managed in Python?"
   ]
  },
  {
   "cell_type": "code",
   "execution_count": null,
   "id": "daa88a3c-f436-4dc9-a7f8-128f7a647022",
   "metadata": {},
   "outputs": [],
   "source": [
    "python automatically manages memory.freeing uo unused objects and optiming storage,so you can focus on coding without \n",
    "worrying about memory details . it does this through dynamic allocation , grabage collection,and reference counting\n",
    ".\n",
    "python uses the dynamic memoey allocation which is managed by the heap data stucture"
   ]
  },
  {
   "cell_type": "code",
   "execution_count": null,
   "id": "a5f39218-2595-487c-9b2e-794403176c06",
   "metadata": {},
   "outputs": [],
   "source": [
    "# 8.what is the purpose continuing statement in python?"
   ]
  },
  {
   "cell_type": "code",
   "execution_count": null,
   "id": "0c423c30-00fe-4edd-890f-22deb12dd951",
   "metadata": {},
   "outputs": [],
   "source": [
    "The continue statement is used to skip the remaining code inside a loop for the current iteration only. "
   ]
  },
  {
   "cell_type": "code",
   "execution_count": null,
   "id": "9e7b004e-e482-47b2-b7ce-1b86d4d47c95",
   "metadata": {},
   "outputs": [],
   "source": [
    "# 9.Write python program that swap two number with temp variable and without temp variable."
   ]
  },
  {
   "cell_type": "code",
   "execution_count": 23,
   "id": "a2add8c8-3e69-4c6a-a21b-466795d0c71e",
   "metadata": {},
   "outputs": [
    {
     "name": "stdin",
     "output_type": "stream",
     "text": [
      "enter value a 5\n",
      "enter value b 3\n"
     ]
    },
    {
     "name": "stdout",
     "output_type": "stream",
     "text": [
      "A= 3 B= 5\n"
     ]
    }
   ],
   "source": [
    "a = int(input(\"enter value a\"))\n",
    "b = int(input(\"enter value b\"))\n",
    "a =a+b\n",
    "b =a -b\n",
    "a=a-b\n",
    "\n",
    "print('A=',a, 'B=',b)"
   ]
  },
  {
   "cell_type": "code",
   "execution_count": null,
   "id": "04397fe5-00fb-45dc-b7f0-b9427e29b8b3",
   "metadata": {},
   "outputs": [],
   "source": [
    "10.Write a Python program to find whether a given number is even\n",
    "or odd, print out an appropriate message to the user."
   ]
  },
  {
   "cell_type": "code",
   "execution_count": 14,
   "id": "2f9a77ac-7917-4ffe-b057-160028fd8a56",
   "metadata": {},
   "outputs": [
    {
     "name": "stdin",
     "output_type": "stream",
     "text": [
      "enter value 10\n"
     ]
    },
    {
     "name": "stdout",
     "output_type": "stream",
     "text": [
      "even\n"
     ]
    }
   ],
   "source": [
    "i = int(input(\"enter value\"))\n",
    "if (i%2)==0:\n",
    "    print(\"even\")\n",
    "else:\n",
    "    print(\"odd\")"
   ]
  },
  {
   "cell_type": "code",
   "execution_count": null,
   "id": "70745970-1cbb-448c-b318-eeaca224bc5c",
   "metadata": {},
   "outputs": [],
   "source": [
    "11.Write a Python program to test whether a passed letter is a vowel\n",
    "or not"
   ]
  },
  {
   "cell_type": "code",
   "execution_count": 15,
   "id": "58e41547-8c90-44fc-bcb3-e5765ad8dca8",
   "metadata": {},
   "outputs": [
    {
     "name": "stdin",
     "output_type": "stream",
     "text": [
      "enter value 'd'\n"
     ]
    },
    {
     "name": "stdout",
     "output_type": "stream",
     "text": [
      "not vowel\n"
     ]
    }
   ],
   "source": [
    "char= input(\"enter value\")\n",
    "if char.lower() in  (\"a\",\"e\",\"i\",\"o\",\"u\"):\n",
    "    print(\"vowel\")\n",
    "\n",
    "else:\n",
    "    print(\"not vowel\")\n"
   ]
  },
  {
   "cell_type": "code",
   "execution_count": null,
   "id": "56d3b50c-e552-4a87-a07a-36b3a23561cc",
   "metadata": {},
   "outputs": [],
   "source": [
    "# 12.Write a Python program to sum of three given integers. However, if two values are equal sum will be zero"
   ]
  },
  {
   "cell_type": "code",
   "execution_count": 38,
   "id": "011f1963-5108-40e0-88dc-b9b19be122f2",
   "metadata": {},
   "outputs": [
    {
     "name": "stdin",
     "output_type": "stream",
     "text": [
      "value 2\n",
      "value 6\n",
      "value 4\n"
     ]
    },
    {
     "name": "stdout",
     "output_type": "stream",
     "text": [
      "12\n"
     ]
    }
   ],
   "source": [
    "a = int(input(\"value\"))\n",
    "b = int(input(\"value\"))\n",
    "c = int(input(\"value\"))\n",
    "\n",
    "if a==b or b==c or c ==a:\n",
    "    print(\"sum is : \",0)\n",
    "\n",
    "else:\n",
    "    print(a+b+c)\n",
    "\n"
   ]
  },
  {
   "cell_type": "code",
   "execution_count": null,
   "id": "82cdaff3-e8b8-43ba-b3cd-9cfaaaef2cb8",
   "metadata": {},
   "outputs": [],
   "source": [
    "# 13.Write a Python program that will return true if the two given\n",
    "# integer values are equal or their sum or difference is 5."
   ]
  },
  {
   "cell_type": "code",
   "execution_count": 42,
   "id": "f71cc7a2-8e0d-4741-9637-3b2f39339d7e",
   "metadata": {},
   "outputs": [
    {
     "name": "stdin",
     "output_type": "stream",
     "text": [
      "value 3\n",
      "value 2\n"
     ]
    },
    {
     "name": "stdout",
     "output_type": "stream",
     "text": [
      "true\n"
     ]
    }
   ],
   "source": [
    "a = int(input(\"value\"))\n",
    "b = int(input(\"value\"))\n",
    "if a ==b or (a-b)==5 or (a+b)==5:\n",
    "    print(\"true\")\n",
    "\n",
    "else :\n",
    "    print(\"false\")\n",
    "\n"
   ]
  },
  {
   "cell_type": "code",
   "execution_count": null,
   "id": "38184566-e6f5-441e-8ff3-935715901446",
   "metadata": {},
   "outputs": [],
   "source": [
    "14.Write a python program to sum of the first n positive integers."
   ]
  },
  {
   "cell_type": "code",
   "execution_count": 20,
   "id": "eb5f5da6-c813-463e-a047-7771943bdb18",
   "metadata": {},
   "outputs": [
    {
     "name": "stdin",
     "output_type": "stream",
     "text": [
      "enter value -6\n"
     ]
    },
    {
     "name": "stdout",
     "output_type": "stream",
     "text": [
      "positive\n"
     ]
    }
   ],
   "source": [
    "n = int(input(\"enter value\"))\n",
    "if(n*(n+1))/2:\n",
    "    print(\"positive\")\n",
    "\n",
    "else :\n",
    "    (negitive)"
   ]
  },
  {
   "cell_type": "code",
   "execution_count": null,
   "id": "6fb9e57e-5f18-435e-8989-44b62b5f6fbe",
   "metadata": {},
   "outputs": [],
   "source": [
    "15.Write a Python program to calculate the length of a string."
   ]
  },
  {
   "cell_type": "code",
   "execution_count": 43,
   "id": "a90c7c0a-c3f4-4eb4-ac79-fdae53265c46",
   "metadata": {},
   "outputs": [
    {
     "name": "stdin",
     "output_type": "stream",
     "text": [
      "enter value \"python\"\n"
     ]
    },
    {
     "name": "stdout",
     "output_type": "stream",
     "text": [
      "8\n"
     ]
    }
   ],
   "source": [
    "a = input(\"enter value\")\n",
    "print(len(a))"
   ]
  },
  {
   "cell_type": "code",
   "execution_count": null,
   "id": "b4a06848-8d1b-48c6-a42c-852642e30d45",
   "metadata": {},
   "outputs": [],
   "source": [
    "16.Write a Python program to count the number of characters (character frequency) in a string"
   ]
  },
  {
   "cell_type": "code",
   "execution_count": 51,
   "id": "06e71081-b4f7-446f-af0d-e7e000be2e88",
   "metadata": {},
   "outputs": [
    {
     "name": "stdout",
     "output_type": "stream",
     "text": [
      "1\n"
     ]
    }
   ],
   "source": [
    "a = \"python\"\n",
    "print(a.count(\"p\"))"
   ]
  },
  {
   "cell_type": "code",
   "execution_count": 48,
   "id": "47b97682-1ae1-466b-a3f3-9539522892e3",
   "metadata": {},
   "outputs": [],
   "source": [
    "# 17.What are negative indexes and why are they used?\n"
   ]
  },
  {
   "cell_type": "code",
   "execution_count": null,
   "id": "e228d314-aead-485f-a218-c219ce68bfe8",
   "metadata": {},
   "outputs": [],
   "source": [
    "ans :- negative indexes in python as a shortcut to grab items stating from the end of a list. it's\n",
    "       like saying,\" hey , give me the last item \" without havig to count how many items are in the\n",
    "        list."
   ]
  },
  {
   "cell_type": "code",
   "execution_count": null,
   "id": "509456de-0192-472f-9489-91799f990233",
   "metadata": {},
   "outputs": [],
   "source": [
    "# 18.Write a Python program to count occurrences of a substring in a string."
   ]
  },
  {
   "cell_type": "code",
   "execution_count": 52,
   "id": "73f5d9db-3cb9-4ba9-8dcd-fea3c4ed3236",
   "metadata": {},
   "outputs": [
    {
     "name": "stdout",
     "output_type": "stream",
     "text": [
      "\n",
      "2\n",
      "\n"
     ]
    }
   ],
   "source": [
    "i = \"hello python\"\n",
    "print()\n",
    "print(i.count(\"o\"))\n",
    "print()"
   ]
  },
  {
   "cell_type": "code",
   "execution_count": null,
   "id": "07d9e863-9c67-4346-84d9-4a0e1d6b6470",
   "metadata": {},
   "outputs": [],
   "source": [
    "# 19. Write a Python program to count the occurrences of each word in a given sentence"
   ]
  },
  {
   "cell_type": "code",
   "execution_count": null,
   "id": "ac9a5de8-fb1d-4bae-b00e-fc1fda218d67",
   "metadata": {},
   "outputs": [],
   "source": []
  },
  {
   "cell_type": "code",
   "execution_count": null,
   "id": "ba808dfd-3897-4088-82df-852b7953a594",
   "metadata": {},
   "outputs": [],
   "source": [
    "# 20.  Write a Python program to get a single string from two given strings,\n",
    "# separated by a space and swap the first two characters of each string."
   ]
  },
  {
   "cell_type": "code",
   "execution_count": 56,
   "id": "e5f7104a-6c06-4bc2-8e0f-2e920bd4b25f",
   "metadata": {},
   "outputs": [
    {
     "name": "stdin",
     "output_type": "stream",
     "text": [
      "value 123\n",
      "value 456\n"
     ]
    },
    {
     "name": "stdout",
     "output_type": "stream",
     "text": [
      "453 126\n"
     ]
    }
   ],
   "source": [
    "a = input(\"value\")\n",
    "b = input(\"value\")\n",
    "x = b[:2]+a[2:]\n",
    "y= a[:2]+b[2:]\n",
    "print(x,y)"
   ]
  },
  {
   "cell_type": "code",
   "execution_count": null,
   "id": "c9b570d7-efcc-41e5-a7f4-c7c579d1f99e",
   "metadata": {},
   "outputs": [],
   "source": [
    "# 21.Write a Python program to add 'in' at the end of a given string (length\n",
    "# should be at least 3). If the given string already ends with 'ing' then\n",
    "# add 'ly' instead if the string length of the given string is less than 3,\n",
    "# leave it unchanged."
   ]
  },
  {
   "cell_type": "code",
   "execution_count": 28,
   "id": "d88ab8dc-f248-4557-887f-adbe1cd6a1ea",
   "metadata": {},
   "outputs": [
    {
     "name": "stdin",
     "output_type": "stream",
     "text": [
      "enter a string 'nm'\n"
     ]
    },
    {
     "name": "stdout",
     "output_type": "stream",
     "text": [
      "'nm'ing\n"
     ]
    }
   ],
   "source": [
    "str1 = input(\"enter a string\")\n",
    "if len(str1)>2:\n",
    "    if str1[-3:1]==\"ing\":\n",
    "        str1+= \"ly\"\n",
    "    else:\n",
    "        str1+=\"ing\"\n",
    "    print(str1)"
   ]
  },
  {
   "cell_type": "code",
   "execution_count": null,
   "id": "bf886198-f7c1-47dd-97ea-a988d50a2da2",
   "metadata": {},
   "outputs": [],
   "source": [
    "# 22. Write a Python function to reverses a string if its length is a multiple\n",
    "# of 4."
   ]
  },
  {
   "cell_type": "code",
   "execution_count": 36,
   "id": "a7f808fa-a052-41b8-a400-52cba2c498f3",
   "metadata": {},
   "outputs": [
    {
     "name": "stdin",
     "output_type": "stream",
     "text": [
      "value nmjk\n"
     ]
    },
    {
     "name": "stdout",
     "output_type": "stream",
     "text": [
      "kjmn\n"
     ]
    }
   ],
   "source": [
    "str1 = input(\"value\")\n",
    "if len(str1)%4 == 0:\n",
    "    print(str1[::-1])\n",
    "\n",
    "else:\n",
    "    print(\"no\")"
   ]
  },
  {
   "cell_type": "code",
   "execution_count": null,
   "id": "97fc2081-d362-42bc-ae05-3a4063553191",
   "metadata": {},
   "outputs": [],
   "source": [
    "# 23.Write a Python program to get a string made of the first 2 and the last\n",
    "# 2 chars from a given a string. If the string length is less than 2, return\n",
    "# instead of the empty string"
   ]
  },
  {
   "cell_type": "code",
   "execution_count": 70,
   "id": "157478d3-f0e1-48b4-9409-ce0e808a9fa9",
   "metadata": {},
   "outputs": [
    {
     "name": "stdin",
     "output_type": "stream",
     "text": [
      "value bk\n"
     ]
    },
    {
     "name": "stdout",
     "output_type": "stream",
     "text": [
      "bk\n"
     ]
    }
   ],
   "source": [
    "i = input(\"value\")\n",
    "if len(i)<2:\n",
    "    print(\"empty\")\n",
    "\n",
    "else:\n",
    "    print(i)"
   ]
  },
  {
   "cell_type": "code",
   "execution_count": null,
   "id": "6297ce54-a046-4dcb-83cc-7a4c0b5dc7f0",
   "metadata": {},
   "outputs": [],
   "source": [
    "# 24.Write a Python function to insert a string in the middle of a string."
   ]
  },
  {
   "cell_type": "code",
   "execution_count": null,
   "id": "e8b03097-cb70-42ef-9347-88f39ad32497",
   "metadata": {},
   "outputs": [],
   "source": [
    "# 25.What is List? How will you reverse a list?"
   ]
  },
  {
   "cell_type": "code",
   "execution_count": null,
   "id": "3523da33-d630-4706-b18b-39e359b903a5",
   "metadata": {},
   "outputs": [],
   "source": [
    "ans:- a list in python is like a flexible container that can hold all sorts of item - numbers,\n",
    "      words,other lists , you name it. you can think of it as agrocery list,where you can keep adding \n",
    "      it as a grocery list , where you can keep adding or removing items as needed.\n",
    "==>> reverse() method to flip the list in place ,like shaking a snow globe to rearrange the scene."
   ]
  },
  {
   "cell_type": "code",
   "execution_count": null,
   "id": "b7b26d29-84eb-4be6-a08c-d137de237bbc",
   "metadata": {},
   "outputs": [],
   "source": [
    "#26. How will you remove last object from a list?"
   ]
  },
  {
   "cell_type": "code",
   "execution_count": null,
   "id": "3d3ce6d6-b4b2-4a0a-bc05-246c9932f8b0",
   "metadata": {},
   "outputs": [],
   "source": [
    "ans : - to remove the last item from a python list,use pop(),slicing [::-1],or del.each method effectively shortens \n",
    "       the list by removing the final element"
   ]
  },
  {
   "cell_type": "code",
   "execution_count": 40,
   "id": "1320f2af-8f77-4522-9392-bb595012e2c7",
   "metadata": {},
   "outputs": [],
   "source": [
    "# 27.Suppose list1 is [2, 33, 222, 14, and 25], what is list1 [-1]?"
   ]
  },
  {
   "cell_type": "code",
   "execution_count": 41,
   "id": "226528a3-62c0-4ea0-ac57-fa5c461d7c86",
   "metadata": {},
   "outputs": [
    {
     "name": "stdout",
     "output_type": "stream",
     "text": [
      "25\n"
     ]
    }
   ],
   "source": [
    "a = [2,33,222,14,25]\n",
    "print(a[-1])"
   ]
  },
  {
   "cell_type": "code",
   "execution_count": null,
   "id": "75fb3771-c7bb-44b0-a336-0f743989b820",
   "metadata": {},
   "outputs": [],
   "source": [
    "# 28.Differentiate between append () and extend () method"
   ]
  },
  {
   "cell_type": "code",
   "execution_count": null,
   "id": "e0283ee9-a9f2-4850-9abd-4d728bf9768a",
   "metadata": {},
   "outputs": [],
   "source": [
    "ans : - use append() when you want to add a single item to the end of the list.\n",
    "        use extend() when you want to add multipel item from another list or iterable to the end of your list."
   ]
  },
  {
   "cell_type": "code",
   "execution_count": null,
   "id": "25c04b22-081d-421a-89c6-6d338f3ab790",
   "metadata": {},
   "outputs": [],
   "source": [
    "# 29.Write a Python function to get the largest number, smallest num\n",
    "# and sum of all from a list."
   ]
  },
  {
   "cell_type": "code",
   "execution_count": 2,
   "id": "34b1dad5-5ff4-4b90-87cb-f52127ce0edb",
   "metadata": {},
   "outputs": [
    {
     "name": "stdin",
     "output_type": "stream",
     "text": [
      "number 4\n",
      "value 10\n"
     ]
    },
    {
     "name": "stdout",
     "output_type": "stream",
     "text": [
      "maximum valuse : 10 \n",
      " Minimum value : 10\n"
     ]
    },
    {
     "name": "stdin",
     "output_type": "stream",
     "text": [
      "value 20\n"
     ]
    },
    {
     "name": "stdout",
     "output_type": "stream",
     "text": [
      "maximum valuse : 20 \n",
      " Minimum value : 10\n"
     ]
    },
    {
     "name": "stdin",
     "output_type": "stream",
     "text": [
      "value 30\n"
     ]
    },
    {
     "name": "stdout",
     "output_type": "stream",
     "text": [
      "maximum valuse : 30 \n",
      " Minimum value : 10\n"
     ]
    },
    {
     "name": "stdin",
     "output_type": "stream",
     "text": [
      "value 40\n"
     ]
    },
    {
     "name": "stdout",
     "output_type": "stream",
     "text": [
      "maximum valuse : 40 \n",
      " Minimum value : 10\n"
     ]
    }
   ],
   "source": [
    "list =[]\n",
    "num1=int(input(\"number\"))\n",
    "for n in range (num1):\n",
    "    numbers =int(input(\"value\"))\n",
    "    list.append(numbers)\n",
    "    print(\"maximum valuse :\",max(list),\"\\n Minimum value :\",min(list))"
   ]
  },
  {
   "cell_type": "code",
   "execution_count": null,
   "id": "cc7a9b73-6f30-4c88-94e1-00387a1164b0",
   "metadata": {},
   "outputs": [],
   "source": [
    "# 30.)How will you compare two lists?"
   ]
  },
  {
   "cell_type": "code",
   "execution_count": null,
   "id": "a9a91d68-4772-4402-861f-6864c889f77b",
   "metadata": {},
   "outputs": [],
   "source": [
    "ans: - you can use the == operator for direct comparison ,set() for unordered comparison "
   ]
  },
  {
   "cell_type": "code",
   "execution_count": null,
   "id": "c6504a8f-ea62-4a17-b3b4-2b2487e0eecf",
   "metadata": {},
   "outputs": [],
   "source": [
    "# 31.ite a Python program to count the number of strings where the string\n",
    "# length is 2 or more and the first and last character are same from a given list\n",
    "# of string"
   ]
  },
  {
   "cell_type": "code",
   "execution_count": 36,
   "id": "c6f02d86-8c16-43da-9862-57fa027efd33",
   "metadata": {},
   "outputs": [
    {
     "name": "stdout",
     "output_type": "stream",
     "text": [
      "aba\n",
      "1\n"
     ]
    }
   ],
   "source": [
    "a = 0\n",
    "list1 = [\"aba\",\"101\"\"hello\",\"abc\"]\n",
    "for n in list1:\n",
    "    if len(n)>2 and n[0]==n[-1]:\n",
    "        print(n)\n",
    "        a=a+1\n",
    "\n",
    "print(a)"
   ]
  },
  {
   "cell_type": "code",
   "execution_count": 37,
   "id": "6a18c15b-d7c8-4f57-b36c-64cb7d009663",
   "metadata": {},
   "outputs": [],
   "source": [
    "# 32.Write a Python program to remove duplicates from a list."
   ]
  },
  {
   "cell_type": "code",
   "execution_count": 55,
   "id": "8679f88e-12f9-412a-bab9-077472a657e1",
   "metadata": {},
   "outputs": [
    {
     "name": "stdin",
     "output_type": "stream",
     "text": [
      "numbers 5\n",
      "number 12\n",
      "number 14\n",
      "number 15\n",
      "number 12\n",
      "number 14\n"
     ]
    },
    {
     "name": "stdout",
     "output_type": "stream",
     "text": [
      "{12, 14, 15}\n"
     ]
    }
   ],
   "source": [
    "list1= []\n",
    "i = int(input(\"numbers\"))\n",
    "for n in  range(i):\n",
    "    num = int(input(\"number\"))\n",
    "    list1.append(num)\n",
    "    new_list = set(list1)\n",
    "print(new_list)"
   ]
  },
  {
   "cell_type": "code",
   "execution_count": 4,
   "id": "8dbed0d6-d0c2-4ecf-88d6-5b84c947b7a1",
   "metadata": {},
   "outputs": [],
   "source": [
    "33.Write a Python program to check a list is empty or not"
   ]
  },
  {
   "cell_type": "code",
   "execution_count": 57,
   "id": "e16a81b1-6204-494d-8f7b-66c41c6d2c39",
   "metadata": {},
   "outputs": [
    {
     "name": "stdout",
     "output_type": "stream",
     "text": [
      "not empty\n"
     ]
    }
   ],
   "source": [
    "list1 = [1]\n",
    "if len(list)==0:\n",
    "    \n",
    "    print(\"empty\")\n",
    "\n",
    "else:\n",
    "    print(\"not empty\")"
   ]
  },
  {
   "cell_type": "code",
   "execution_count": null,
   "id": "31e97d93-8c0b-4146-8594-0cc6dad9676c",
   "metadata": {},
   "outputs": [],
   "source": [
    "34.Write a Python function that takes two lists and returns true if they have at least one common member."
   ]
  },
  {
   "cell_type": "code",
   "execution_count": 58,
   "id": "de9bd4b7-5a5c-469c-8e1f-55fd7dc5b565",
   "metadata": {},
   "outputs": [
    {
     "name": "stdout",
     "output_type": "stream",
     "text": [
      "true\n"
     ]
    }
   ],
   "source": [
    "list1 =[1,2,3,4,5] \n",
    "list2 =[5,6,7,8,9]\n",
    "for x in list1:\n",
    "    for y in list2:\n",
    "        if(x==y):\n",
    "            print(\"true\")"
   ]
  },
  {
   "cell_type": "code",
   "execution_count": null,
   "id": "c10e4ee0-5eee-4da4-869e-8cb4c2e02fc1",
   "metadata": {},
   "outputs": [],
   "source": [
    "35.Write a Python program to generate and print a list of first and last 5 elements where the values are square of numbers between 1 and 30."
   ]
  },
  {
   "cell_type": "code",
   "execution_count": 144,
   "id": "e07d448b-e68d-4861-8944-3b3d53634c9b",
   "metadata": {},
   "outputs": [
    {
     "name": "stdout",
     "output_type": "stream",
     "text": [
      "[1, 4, 9, 16, 25]\n",
      "[256, 289, 324, 361, 400]\n"
     ]
    }
   ],
   "source": [
    "def printvalues():\n",
    "    l= []\n",
    "    for i in range (1,21):\n",
    "        l.append(i**2)\n",
    "    print(l[:5])\n",
    "    print(l[-5:])\n",
    "\n",
    "    \n",
    "printvalues()"
   ]
  },
  {
   "cell_type": "code",
   "execution_count": null,
   "id": "8991f738-c0a3-4776-8177-79dd438a2633",
   "metadata": {},
   "outputs": [],
   "source": [
    "# 37.Write a Python program to convert a list of characters into a string"
   ]
  },
  {
   "cell_type": "code",
   "execution_count": 10,
   "id": "c0a16f77-75b8-40db-8ca7-b5f384c84c62",
   "metadata": {},
   "outputs": [
    {
     "name": "stdout",
     "output_type": "stream",
     "text": [
      "acfg\n"
     ]
    },
    {
     "data": {
      "text/plain": [
       "list"
      ]
     },
     "execution_count": 10,
     "metadata": {},
     "output_type": "execute_result"
    }
   ],
   "source": [
    "a =['a','c','f','g']\n",
    "a1=''.join(a)\n",
    "print(a1)\n",
    "type(a)"
   ]
  },
  {
   "cell_type": "code",
   "execution_count": null,
   "id": "0f5413aa-bcd0-4885-be74-2346c1ec991b",
   "metadata": {},
   "outputs": [],
   "source": [
    "# 38)Write a Python program to select an item randomly from a list."
   ]
  },
  {
   "cell_type": "code",
   "execution_count": 53,
   "id": "d266ea05-7a49-467f-9458-e72c4f23395c",
   "metadata": {},
   "outputs": [
    {
     "name": "stdout",
     "output_type": "stream",
     "text": [
      "black\n"
     ]
    }
   ],
   "source": [
    "import random\n",
    "colorlist=[\"red\",\"white\",\"blue\",\"green\",\"black\",\"pink\"]\n",
    "print(random.choice(colorlist))"
   ]
  },
  {
   "cell_type": "code",
   "execution_count": null,
   "id": "4f26d830-9a6d-4c22-9109-2dcf284bb9e4",
   "metadata": {},
   "outputs": [],
   "source": [
    "# 40.Write a Python program to get unique values from a list"
   ]
  },
  {
   "cell_type": "code",
   "execution_count": 57,
   "id": "a8781e3b-bd6f-47c4-913f-22ab19bb9dfc",
   "metadata": {},
   "outputs": [
    {
     "name": "stdout",
     "output_type": "stream",
     "text": [
      "[22, 56, 22, 48, 35, 62, 36, 56, 36, 48, 36, 22, 56]\n",
      "{35, 36, 48, 22, 56, 62}\n"
     ]
    }
   ],
   "source": [
    "list1 =[22,56,22,48,35,62,36,56,36,48,36,22,56]\n",
    "print(list1)\n",
    "list1=set(list1)\n",
    "print(list1)"
   ]
  },
  {
   "cell_type": "code",
   "execution_count": null,
   "id": "ea92c504-b091-40e3-bc78-886c5c71ddba",
   "metadata": {},
   "outputs": [],
   "source": [
    "# 41.Write a Python program to check whether a list contains a sub list"
   ]
  },
  {
   "cell_type": "code",
   "execution_count": 72,
   "id": "4fa93fcc-6531-4056-8fb2-1186829254e9",
   "metadata": {},
   "outputs": [
    {
     "name": "stdout",
     "output_type": "stream",
     "text": [
      "True\n"
     ]
    }
   ],
   "source": [
    "list1 = [50,20,12,36,45]\n",
    "list2 = [50,60]\n",
    "result = False\n",
    "for x in list1:\n",
    "    for y in list2:\n",
    "        if x==y:\n",
    "            result=True\n",
    "\n",
    "print(result)"
   ]
  },
  {
   "cell_type": "code",
   "execution_count": null,
   "id": "b495d26d-7132-4b12-b6a9-68b6f2d7c5c6",
   "metadata": {},
   "outputs": [],
   "source": [
    "# 42.Write a Python program to split a list into different variables."
   ]
  },
  {
   "cell_type": "code",
   "execution_count": 47,
   "id": "b2c71430-ca00-43f3-a161-9da788137dfd",
   "metadata": {},
   "outputs": [
    {
     "name": "stdout",
     "output_type": "stream",
     "text": [
      "[4, 5, 6, 78, 9]\n"
     ]
    },
    {
     "data": {
      "text/plain": [
       "list"
      ]
     },
     "execution_count": 47,
     "metadata": {},
     "output_type": "execute_result"
    }
   ],
   "source": [
    "a = [4,5,6,78,9]\n",
    "print(a)\n",
    "type(a)"
   ]
  },
  {
   "cell_type": "code",
   "execution_count": 44,
   "id": "c349c39c-e52d-422a-9863-bba5fa58228e",
   "metadata": {},
   "outputs": [],
   "source": [
    "e,f,g,h,i = a"
   ]
  },
  {
   "cell_type": "code",
   "execution_count": 46,
   "id": "192b016d-7ff1-4c87-bd0a-9ac9bdba2460",
   "metadata": {},
   "outputs": [
    {
     "name": "stdout",
     "output_type": "stream",
     "text": [
      "4\n",
      "5\n",
      "6\n",
      "78\n",
      "9\n"
     ]
    }
   ],
   "source": [
    "print(e)\n",
    "print(f)\n",
    "print(g)\n",
    "print(h)\n",
    "print(i)"
   ]
  },
  {
   "cell_type": "code",
   "execution_count": null,
   "id": "e06985b0-3801-498d-ba41-4e56da414c72",
   "metadata": {},
   "outputs": [],
   "source": [
    "# 43.What is tuple? Difference between list and tuple"
   ]
  },
  {
   "cell_type": "code",
   "execution_count": null,
   "id": "810a0c68-700a-4c39-a95d-52e2f21f0d45",
   "metadata": {},
   "outputs": [],
   "source": [
    "ans :- tupe in python is similar to alist in that it can hold a collection of items. \n",
    "         the key difference is that tuples are immutable ."
   ]
  },
  {
   "cell_type": "code",
   "execution_count": null,
   "id": "c2b41e25-bdef-4da3-acb8-696b8e3f2b9a",
   "metadata": {},
   "outputs": [],
   "source": [
    "# 44.Write a Python program to create a tuple with different data types"
   ]
  },
  {
   "cell_type": "code",
   "execution_count": 58,
   "id": "6fab2282-5f83-4193-aa22-be78bca432f7",
   "metadata": {},
   "outputs": [
    {
     "name": "stdout",
     "output_type": "stream",
     "text": [
      "('apple', 2.5, 5, 21)\n"
     ]
    },
    {
     "data": {
      "text/plain": [
       "tuple"
      ]
     },
     "execution_count": 58,
     "metadata": {},
     "output_type": "execute_result"
    }
   ],
   "source": [
    "tuple1  = (\"apple\",2.5,5,21)\n",
    "print(tuple1)\n",
    "type(tuple1)\n"
   ]
  },
  {
   "cell_type": "code",
   "execution_count": null,
   "id": "7e6fa7df-f3cc-417c-8963-34cf3127ce5d",
   "metadata": {},
   "outputs": [],
   "source": [
    "# 46.Write a Python program to convert a list of tuples into a dictionary."
   ]
  },
  {
   "cell_type": "code",
   "execution_count": 11,
   "id": "5727b67e-79ef-40ba-b716-0b67c30da946",
   "metadata": {},
   "outputs": [],
   "source": [
    "tuple1 = [(\"a\",10),(\"b\",20),(\"c\",30),(\"d\",40)] \n",
    "dict1 ={}"
   ]
  },
  {
   "cell_type": "code",
   "execution_count": 17,
   "id": "eaf68227-206e-4011-8577-02a929bd4509",
   "metadata": {},
   "outputs": [
    {
     "name": "stdout",
     "output_type": "stream",
     "text": [
      "{'a': [10], 'b': [20], 'c': [30], 'd': [40]}\n"
     ]
    }
   ],
   "source": [
    "for d1, value in tuple1:\n",
    "    dict1.setdefault(d1,[]).append(value)\n",
    "print(dict1)"
   ]
  },
  {
   "cell_type": "code",
   "execution_count": null,
   "id": "aeb7f3d3-66b7-4bc0-a78e-bd15d7d04a3c",
   "metadata": {},
   "outputs": [],
   "source": [
    "# 47.How will you create a dictionary using tuples in python."
   ]
  },
  {
   "cell_type": "code",
   "execution_count": null,
   "id": "09e42611-b3eb-41eb-a5c1-555e768a5071",
   "metadata": {},
   "outputs": [],
   "source": [
    "ans :- to create a dictionary from tuples in python, use a list of key-value pair tuples and \n",
    "       convert it with the dict() function. syntax for this is tuple =[(\"a\",10),(\"b\",20),(\"c\",30)]\n",
    "        my_dict=dict(tupple_list)."
   ]
  },
  {
   "cell_type": "code",
   "execution_count": null,
   "id": "9e4efc71-387d-49b1-bc6f-18877bf67985",
   "metadata": {},
   "outputs": [],
   "source": [
    "# 48.Write a Python script to sort (ascending and descending) a\n",
    "dictionary by value."
   ]
  },
  {
   "cell_type": "code",
   "execution_count": 28,
   "id": "de1fb9b6-7c75-4294-abcd-7ddb1883de4a",
   "metadata": {},
   "outputs": [],
   "source": [
    "dic = {\"math\":12,\n",
    "       \"eng\":34,\n",
    "       \"sci\":32,\n",
    "       \"guj\":50,\n",
    "       \"hindi\":56\n",
    "}"
   ]
  },
  {
   "cell_type": "code",
   "execution_count": 30,
   "id": "0392fa64-69b0-4c5c-8d1b-da61ef5c35ca",
   "metadata": {},
   "outputs": [],
   "source": [
    "dict1 = {}"
   ]
  },
  {
   "cell_type": "code",
   "execution_count": 37,
   "id": "1c875d94-96fb-41c8-8699-6c4bb8e7d205",
   "metadata": {},
   "outputs": [
    {
     "name": "stdout",
     "output_type": "stream",
     "text": [
      "[('math', 12), ('sci', 32), ('eng', 34), ('guj', 50), ('hindi', 56)]\n"
     ]
    }
   ],
   "source": [
    "dict1=(sorted(dic.items(), key=lambda x: x[1]))\n",
    "print(dict1)"
   ]
  },
  {
   "cell_type": "code",
   "execution_count": 41,
   "id": "0c1e9335-0093-4ec0-919e-b4f4fded3be4",
   "metadata": {},
   "outputs": [
    {
     "name": "stdout",
     "output_type": "stream",
     "text": [
      "[('hindi', 56), ('guj', 50), ('eng', 34), ('sci', 32), ('math', 12)]\n"
     ]
    }
   ],
   "source": [
    "dict2=(sorted(dic.items(), key=lambda x: x[1],reverse=True))\n",
    "print(dict2)"
   ]
  },
  {
   "cell_type": "code",
   "execution_count": null,
   "id": "3855d2a4-d61a-4e32-9304-d1adfdb319e5",
   "metadata": {},
   "outputs": [],
   "source": [
    "# 49.Write a Python script to concatenate following dictionaries to create\n",
    "# a new one."
   ]
  },
  {
   "cell_type": "code",
   "execution_count": 73,
   "id": "b1fe599f-a484-4181-997c-f2fabd136961",
   "metadata": {},
   "outputs": [
    {
     "name": "stdout",
     "output_type": "stream",
     "text": [
      "{1: 10, 3: 30}\n",
      "{1: 10, 3: 30, 5: 50, 6: 60}\n",
      "{1: 10, 3: 30, 5: 50, 6: 60, 7: 70, 2: 20}\n"
     ]
    }
   ],
   "source": [
    "dic1 ={1:10,3:30}\n",
    "dic2={5:50,6:60}\n",
    "dic3={7:70,2:20}\n",
    "dic4={}\n",
    "for d in (dic1,dic2,dic3):\n",
    "    dic4.update(d)\n",
    "    print(dic4)"
   ]
  },
  {
   "cell_type": "code",
   "execution_count": null,
   "id": "a8fa630c-c828-4dcc-a5e4-0269918f34c2",
   "metadata": {},
   "outputs": [],
   "source": [
    "# 50.Write a Python script to check if a given key already exists in a dictionary"
   ]
  },
  {
   "cell_type": "code",
   "execution_count": 80,
   "id": "a58b3d12-d6b5-4680-bbb9-f6e86d776fb5",
   "metadata": {},
   "outputs": [
    {
     "name": "stdout",
     "output_type": "stream",
     "text": [
      "apple exists in the dictionary.\n"
     ]
    }
   ],
   "source": [
    "\n",
    "\n",
    "my_dict={\"banana\":2,\"apple\":1,\"cherry\":3}\n",
    "def key_exists(key,dictionary):\n",
    "    return key in dictionary\n",
    "    \n",
    "key_to_check = \"apple\"\n",
    "if key_exists(key_to_check,my_dict):\n",
    "    print(key_to_check,\"exists in the dictionary.\")\n",
    "else:\n",
    "    print(key_to_check,\"does not exist .\")"
   ]
  },
  {
   "cell_type": "code",
   "execution_count": null,
   "id": "859f655e-169a-4a68-be36-28bccc1a689c",
   "metadata": {},
   "outputs": [],
   "source": [
    "# 51.How Do You Check the Presence of a Key in A Dictionary"
   ]
  },
  {
   "cell_type": "code",
   "execution_count": null,
   "id": "6ad32fac-c890-4e02-95bf-ac571b466186",
   "metadata": {},
   "outputs": [],
   "source": [
    "ans :-Iterate through Keys: Use a for loop to access each key.\n",
    "        python for key in my_dict: print(key) Iterate through Values: Use the values() method.\n",
    "    python for value in my_dict.values(): print(value) Iterate through Key-Value Pairs: Use the items() method.\n",
    "    python for key, value in my_dict.items(): print(f\"{key}: {value}\") Using enumerate(): Get the index and key-value pairs.\n",
    "    python for index, (key, value) in enumerate(my_dict.items()): print(f\"Index {index}: {key} -> {value}\""
   ]
  },
  {
   "cell_type": "code",
   "execution_count": null,
   "id": "2a800efb-cf25-4203-8402-906aa1977656",
   "metadata": {},
   "outputs": [],
   "source": [
    "# 52.How Do You Check the Presence of a Key in A Dictionary?"
   ]
  },
  {
   "cell_type": "code",
   "execution_count": null,
   "id": "16e9df2e-fbd9-44ae-90c5-7cad015dd3c0",
   "metadata": {},
   "outputs": [],
   "source": [
    "ans:- summarize above message in 2 lines to cheak if a key exists in apython dictionary , use the in keyword:\n",
    "        if key in my_dict(f\"{key}' does not exist in the dictionary.\") else:print(f\"{key} does not exist in the dictionary.\")"
   ]
  },
  {
   "cell_type": "code",
   "execution_count": null,
   "id": "42ba6682-8eec-4200-8f4a-b0eb0c21893e",
   "metadata": {},
   "outputs": [],
   "source": [
    "# 53.Write a Python script to print a dictionary where the keys are\n",
    "# numbers between 1 and 15."
   ]
  },
  {
   "cell_type": "code",
   "execution_count": 141,
   "id": "99b1e163-18c5-49d7-bdd8-deefd2f0f949",
   "metadata": {},
   "outputs": [
    {
     "name": "stdout",
     "output_type": "stream",
     "text": [
      "{1: 1, 2: 1, 3: 1, 4: 1, 5: 1, 6: 1, 7: 1, 8: 1, 9: 1, 10: 1, 11: 1, 12: 1, 13: 1, 14: 1, 15: 1}\n"
     ]
    }
   ],
   "source": [
    "my_dict = {i: i ** 0 for i in range(1,16)}\n",
    "print(my_dict)"
   ]
  },
  {
   "cell_type": "code",
   "execution_count": null,
   "id": "ed38a5e5-01c5-464d-8229-e77de13a17ce",
   "metadata": {},
   "outputs": [],
   "source": [
    "# 54.Write a Python program to check multiple keys exists in a dictionary"
   ]
  },
  {
   "cell_type": "code",
   "execution_count": 9,
   "id": "3dba6e95-e42a-4708-8cfb-f809018f8ae4",
   "metadata": {},
   "outputs": [
    {
     "name": "stdout",
     "output_type": "stream",
     "text": [
      "False\n",
      "False\n"
     ]
    }
   ],
   "source": [
    "student = {\"class\" :\"v\",\n",
    "           \"roll id\":\"2\"\n",
    "          }\n",
    "print(student.keys()>={\"class\",\"name\"})\n",
    "print(student.keys()>={\"roll id\",\"name\"})\n"
   ]
  },
  {
   "cell_type": "code",
   "execution_count": null,
   "id": "674e7114-96ce-4e23-9a2e-b7b011ddd9dd",
   "metadata": {},
   "outputs": [],
   "source": [
    "# 55.Write a Python script to merge two Python dictionaries"
   ]
  },
  {
   "cell_type": "code",
   "execution_count": 35,
   "id": "1bcf35ac-e33c-47d0-845b-b45e4871d8d0",
   "metadata": {},
   "outputs": [
    {
     "name": "stdout",
     "output_type": "stream",
     "text": [
      "marge dictionary {'apple': 2, 'banana': 3, 'cherry': 1, 'date': 5}\n"
     ]
    }
   ],
   "source": [
    "var1 = {'apple':2,'banana':3}\n",
    "var2 = {'cherry':1,'date':5}\n",
    "\n",
    "marge_var = var1.copy()\n",
    "marge_var.update(var2)\n",
    "print(\"marge dictionary\",marge_var)"
   ]
  },
  {
   "cell_type": "code",
   "execution_count": null,
   "id": "eb818bea-c27a-4deb-a487-c86d267fad9d",
   "metadata": {},
   "outputs": [],
   "source": [
    "# 56.Write a Python program to map two lists into a dictionary"
   ]
  },
  {
   "cell_type": "code",
   "execution_count": 38,
   "id": "9905c1df-61bb-4189-a088-34afd57a7436",
   "metadata": {},
   "outputs": [
    {
     "name": "stdout",
     "output_type": "stream",
     "text": [
      "{'ram': 3, 'shyam': 2, 'shree': 1}\n"
     ]
    }
   ],
   "source": [
    "a1 = [\"ram\",\"shyam\",\"shree\"]\n",
    "value = [3,2,1]\n",
    "two_list = dict(zip(a1,value))\n",
    "print(two_list)"
   ]
  },
  {
   "cell_type": "code",
   "execution_count": null,
   "id": "4f6c44d8-8de8-4555-8daf-366d8c26e10e",
   "metadata": {},
   "outputs": [],
   "source": [
    "# 57.Write a Python program to find the highest 3 values in a dictionary"
   ]
  },
  {
   "cell_type": "code",
   "execution_count": 9,
   "id": "23c30eb7-70e8-4ac4-9eae-9890e65f706e",
   "metadata": {},
   "outputs": [
    {
     "name": "stdout",
     "output_type": "stream",
     "text": [
      "h\n"
     ]
    }
   ],
   "source": [
    "value= {'a':500,'b':623,'c':485,'d':452,'e':125,'f':452,'g':142,'h':789,'i':222}\n",
    "three_large = max(value,key=value.get)\n",
    "print(three_large)"
   ]
  },
  {
   "cell_type": "code",
   "execution_count": 13,
   "id": "cb340656-2bca-48c6-95a2-1be1e9ffbd22",
   "metadata": {},
   "outputs": [
    {
     "name": "stdout",
     "output_type": "stream",
     "text": [
      "b\n"
     ]
    }
   ],
   "source": [
    "data = {'a':1450,'b':125,'c':212}\n",
    "va1 = min(data,key =data.get)\n",
    "\n",
    "print(va1)"
   ]
  },
  {
   "cell_type": "code",
   "execution_count": 139,
   "id": "c474e141-3148-4959-ab95-5a6c66122a1c",
   "metadata": {},
   "outputs": [],
   "source": [
    "# 58.Write a Python program to combine values in python list of dictionaries.\n",
    "# Sample \n",
    "data= [{'item': 'item1', 'amount': 400}, \n",
    "       {'item': 'item2', 'amount':300},\n",
    "       {'item': 'item1', 'amount': 750}]"
   ]
  },
  {
   "cell_type": "code",
   "execution_count": 140,
   "id": "ee8c3bd0-d330-47f6-b832-e81d4a65042b",
   "metadata": {},
   "outputs": [
    {
     "name": "stdout",
     "output_type": "stream",
     "text": [
      "{'item1': 1150, 'item2': 300}\n"
     ]
    }
   ],
   "source": [
    "def combine_values(data):\n",
    "    combined={}\n",
    "    for entry in data:\n",
    "        item =entry[\"item\"]\n",
    "        amount=entry[\"amount\"]\n",
    "        if item in combined:\n",
    "            combined[item]+=amount\n",
    "        else:\n",
    "            combined[item]=amount\n",
    "    return combined\n",
    "combined_data =combine_values(data)\n",
    "print(combined_data)"
   ]
  },
  {
   "cell_type": "code",
   "execution_count": null,
   "id": "882c3a87-c475-4e6b-bf40-6af8b2c6789d",
   "metadata": {},
   "outputs": [],
   "source": [
    "# 59.Write a Python program to create a dictionary from a string.\n",
    "# Note: Track the count of the letters from the string."
   ]
  },
  {
   "cell_type": "code",
   "execution_count": 138,
   "id": "8caea88d-0d96-4d9e-b43c-b8c7e5894b89",
   "metadata": {},
   "outputs": [
    {
     "name": "stdout",
     "output_type": "stream",
     "text": [
      "{'g': 1, 'a': 1, 's': 2, 'u': 1, 'k': 1, 'c': 2, 'h': 1, 'o': 1}\n"
     ]
    }
   ],
   "source": [
    "sample_string = \"gasukchosc\"\n",
    "def create_dict_from_string(s):\n",
    "    char_dict={}\n",
    "    for char in s:\n",
    "        if char in char_dict:\n",
    "            char_dict[char]+=1\n",
    "        else:\n",
    "            char_dict[char]=1\n",
    "    return char_dict\n",
    "result_dict = create_dict_from_string(sample_string)\n",
    "print(result_dict)"
   ]
  },
  {
   "cell_type": "code",
   "execution_count": null,
   "id": "14eabbe2-a512-496f-b9ed-a88e3f8e373e",
   "metadata": {},
   "outputs": [],
   "source": [
    "# 61.Write a Python function to calculate the factorial of a number (a\n",
    "# nonnegative integer)"
   ]
  },
  {
   "cell_type": "code",
   "execution_count": 25,
   "id": "e008f9be-8442-47ff-9f7a-6667425df4d9",
   "metadata": {},
   "outputs": [
    {
     "name": "stdout",
     "output_type": "stream",
     "text": [
      "the factorial2 is 2\n"
     ]
    }
   ],
   "source": [
    "def factorial(n):\n",
    "    if n==0:\n",
    "        return 1\n",
    "    else:\n",
    "        return n*factorial(n -1)\n",
    "\n",
    "num = 2\n",
    "print(f\"the factorial{num} is {factorial(num)}\")"
   ]
  },
  {
   "cell_type": "code",
   "execution_count": null,
   "id": "303395e8-4545-4782-a177-918edad72b22",
   "metadata": {},
   "outputs": [],
   "source": [
    "# 62.Write a Python function to check whether a number is in a given range"
   ]
  },
  {
   "cell_type": "code",
   "execution_count": 43,
   "id": "dc084b16-93a3-41d7-878b-a62f99685563",
   "metadata": {},
   "outputs": [
    {
     "name": "stdin",
     "output_type": "stream",
     "text": [
      "value 1\n",
      "starting_range 0\n",
      "ending_range 15\n"
     ]
    },
    {
     "name": "stdout",
     "output_type": "stream",
     "text": [
      "num in the range\n"
     ]
    }
   ],
   "source": [
    "def check_num(number,start,end):\n",
    "    if start <= number <=end:\n",
    "        return True\n",
    "    return False\n",
    "\n",
    "n=int(input(\"value\"))\n",
    "staring_range=int(input(\"starting_range\"))\n",
    "ending_range= int(input(\"ending_range\"))\n",
    "a = check_num(n,staring_range,ending_range)\n",
    "if a:\n",
    "    print(\"num in the range\")\n",
    "else:\n",
    "    print(\"num is not in range\")"
   ]
  },
  {
   "cell_type": "code",
   "execution_count": null,
   "id": "aac4292e-c30d-4100-a042-e14c931971c6",
   "metadata": {},
   "outputs": [],
   "source": [
    "# 63.Write a Python function to check whether a number is perfect or not"
   ]
  },
  {
   "cell_type": "code",
   "execution_count": 37,
   "id": "bc3b3977-34d2-45fe-a16a-a43c0300743d",
   "metadata": {},
   "outputs": [
    {
     "name": "stdin",
     "output_type": "stream",
     "text": [
      "value 81\n"
     ]
    },
    {
     "name": "stdout",
     "output_type": "stream",
     "text": [
      "yes perfect\n"
     ]
    }
   ],
   "source": [
    "n = int(input(\"value\"))\n",
    "a = 0\n",
    "for i in range(1,n):\n",
    "    if i*i==n:\n",
    "        a=1\n",
    "        break\n",
    "if a==1:\n",
    "    print(\"yes perfect\")\n",
    "\n",
    "else:\n",
    "    print(\"no perfect\")"
   ]
  },
  {
   "cell_type": "code",
   "execution_count": null,
   "id": "deb34dde-a1a3-46d0-bb12-b57e575b4fd8",
   "metadata": {},
   "outputs": [],
   "source": [
    "# 64.Write a Python function that checks whether a passed string is\n",
    "palindrome or not"
   ]
  },
  {
   "cell_type": "code",
   "execution_count": 83,
   "id": "8e5d8786-641d-447f-b0c1-5673481561a5",
   "metadata": {},
   "outputs": [
    {
     "name": "stdin",
     "output_type": "stream",
     "text": [
      "value ffggff\n"
     ]
    }
   ],
   "source": [
    "my_string= input(\"value\")\n",
    "def is_palindrome(s):\n",
    "    return s==s[::-1]\n",
    "    if is_palindrome(my_string):\n",
    "        print(my_string,\"is a .\")\n",
    "    else:\n",
    "        print(my_string,\"is not \")"
   ]
  },
  {
   "cell_type": "code",
   "execution_count": null,
   "id": "9a426373-a25d-4c50-862a-efbcc8bc2b4b",
   "metadata": {},
   "outputs": [],
   "source": [
    "# 65.how Many Basic Types of Functions Are Available in Python?"
   ]
  },
  {
   "cell_type": "code",
   "execution_count": null,
   "id": "421f7b7b-bf97-48c9-8e4a-39aa57231e55",
   "metadata": {},
   "outputs": [],
   "source": [
    "ans :-In Python, there are two basic types of functions:\n",
    "    Built-in Functions: These are functions that are pre-defined in Python and are always available for use. \n",
    "    Examples include print(), len(), sum(), and many more.\n",
    "    User-Defined Functions: These are functions that you can define yourself to perform specific tasks.\n",
    "    You create them using the def keyword followed by the function name and parameters"
   ]
  },
  {
   "cell_type": "code",
   "execution_count": null,
   "id": "665fb84b-703f-4b63-b94f-b0a148686d8f",
   "metadata": {},
   "outputs": [],
   "source": [
    "# 66.How can you pick a random item from a list or tuple?"
   ]
  },
  {
   "cell_type": "code",
   "execution_count": null,
   "id": "9b1b78bf-908e-46bd-98ea-df59b481de84",
   "metadata": {},
   "outputs": [],
   "source": [
    "ans :-To pick a random item from a list or tuple in Python, use the random.choice() function from the random module:\n",
    "    Import random: import random\n",
    "    Define List or Tuple: Example list - [1, 2, 3, 4, 5]\n",
    "    Select a random item: random.choice(my_list) or random.choice(my_tuple)"
   ]
  },
  {
   "cell_type": "code",
   "execution_count": null,
   "id": "eb386924-48f8-4c72-a611-cff3975d5b91",
   "metadata": {},
   "outputs": [],
   "source": [
    "# 67.How can you pick a random item from a range?"
   ]
  },
  {
   "cell_type": "code",
   "execution_count": null,
   "id": "18ecd748-cf7f-481b-96ad-9ef8703a060d",
   "metadata": {},
   "outputs": [],
   "source": [
    "ans:-To pick a random item from a range in Python, you can use either random.randrange() or random.randint() from the random module:\n",
    "    Using random.randrange(start, end): Picks a random integer from the range [start, end), excluding the end.\n",
    "    Using random.randint(start, end): Picks a random integer from the range [start, end], including both start and end"
   ]
  },
  {
   "cell_type": "code",
   "execution_count": null,
   "id": "617dd63a-9a9b-4272-bc14-6b3881ec3b8d",
   "metadata": {},
   "outputs": [],
   "source": [
    "# 68.How can you get a random number in python?"
   ]
  },
  {
   "cell_type": "code",
   "execution_count": null,
   "id": "9ba02276-5351-49b2-b100-38ba893a2f77",
   "metadata": {},
   "outputs": [],
   "source": [
    "ans:--To generate a random number in Python, use the random module:\n",
    "    Random Integer: random.randint(start, end) - Inclusive range.\n",
    "    Random Float: random.random() - Between 0.0 and 1.0.\n",
    "    Random Float within a Range: random.uniform(start, end) - Any float in the range.\n",
    "    Random Number from a Range: random.randrange(start, stop) - Excludes the stop value."
   ]
  },
  {
   "cell_type": "code",
   "execution_count": null,
   "id": "09bdf13b-edd4-4646-b485-ab7e39fc57d4",
   "metadata": {},
   "outputs": [],
   "source": [
    "# 69.How will you set the starting value in generating random numbers?"
   ]
  },
  {
   "cell_type": "code",
   "execution_count": null,
   "id": "1f9ad8fe-195e-4a55-a1b9-bce230cc9f30",
   "metadata": {},
   "outputs": [],
   "source": [
    "ans:-To set the starting value for generating random numbers in Python, use random.seed(value). \n",
    "    This ensures reproducibility of the random number sequence. Here’s how:\n",
    "    Import the random module.\n",
    "    Set the Seed using random.seed(value) where value is an integer.\n",
    "    Generate random numbers using random functions like random.randint(), random.random(), or random.uniform()."
   ]
  },
  {
   "cell_type": "code",
   "execution_count": null,
   "id": "550d16bc-4c4e-44f5-84b4-393c1c80a5c1",
   "metadata": {},
   "outputs": [],
   "source": [
    "# 70.How will you randomize the items of a list in place?"
   ]
  },
  {
   "cell_type": "code",
   "execution_count": null,
   "id": "a4bc7d22-1baa-4a41-926c-20a54d863ec9",
   "metadata": {},
   "outputs": [],
   "source": [
    "ans:-To randomize (shuffle) the items of a list in Python, use random.shuffle(). Here's a summary of the steps:\n",
    "    Import the random module.\n",
    "    Define the list you want to shuffle.\n",
    "    Shuffle the list in place using random.shuffle(list).\n",
    "    Print the shuffled list."
   ]
  },
  {
   "cell_type": "code",
   "execution_count": null,
   "id": "09bd5d54-9c71-4790-a11c-bd90db4a96f0",
   "metadata": {},
   "outputs": [],
   "source": [
    "# 71. What is File function in python? What are keywords to create and write file.\n"
   ]
  },
  {
   "cell_type": "code",
   "execution_count": null,
   "id": "75e746e4-2c6f-47de-8a53-1cd6fd3d971e",
   "metadata": {},
   "outputs": [],
   "source": [
    "Ans:-To handle files in Python:\n",
    "    Use the open() function with appropriate modes to create and write to files.0\n",
    "    Use write() to write strings and writelines() to write lists of strings.\n",
    "    Don't forget to close the file using close() to ensure changes are saved."
   ]
  },
  {
   "cell_type": "code",
   "execution_count": 27,
   "id": "54b84af6-f6a7-47d2-8535-28f17cc74a9f",
   "metadata": {},
   "outputs": [],
   "source": [
    "# 72.Write a Python program to read an entire text file."
   ]
  },
  {
   "cell_type": "code",
   "execution_count": 8,
   "id": "7a433459-2c6c-4e20-8d9a-9c8136e8cb27",
   "metadata": {},
   "outputs": [],
   "source": [
    "o1 = open(\"sample file.txt\",\"w\")"
   ]
  },
  {
   "cell_type": "code",
   "execution_count": 66,
   "id": "05e03d9c-383e-4a66-aa95-9b61aad3707d",
   "metadata": {},
   "outputs": [
    {
     "data": {
      "text/plain": [
       "15"
      ]
     },
     "execution_count": 66,
     "metadata": {},
     "output_type": "execute_result"
    }
   ],
   "source": [
    "o1.write(\"i live in surat\")"
   ]
  },
  {
   "cell_type": "code",
   "execution_count": 67,
   "id": "f60c555e-d049-434a-8d5a-3b77998ca86d",
   "metadata": {},
   "outputs": [],
   "source": [
    "o1.close()"
   ]
  },
  {
   "cell_type": "code",
   "execution_count": 69,
   "id": "b88e970f-81ed-4ac1-a890-6d58efe8726d",
   "metadata": {},
   "outputs": [],
   "source": [
    "\n",
    "o1=open(\"sample file.txt\",\"r\")"
   ]
  },
  {
   "cell_type": "code",
   "execution_count": 70,
   "id": "c9275f2e-3e9b-448a-8d92-c25ea06f0db5",
   "metadata": {},
   "outputs": [
    {
     "data": {
      "text/plain": [
       "'i live in surat'"
      ]
     },
     "execution_count": 70,
     "metadata": {},
     "output_type": "execute_result"
    }
   ],
   "source": [
    "o1.read()"
   ]
  },
  {
   "cell_type": "code",
   "execution_count": null,
   "id": "a91791f2-b9ea-4e6f-a70e-14f6050da928",
   "metadata": {},
   "outputs": [],
   "source": [
    "# 73.Write a Python program to append text to a file and display the text"
   ]
  },
  {
   "cell_type": "code",
   "execution_count": 4,
   "id": "87bee366-f26f-4aa1-9ce2-bd1baad3888f",
   "metadata": {},
   "outputs": [],
   "source": [
    "o1 =open(\"sample file.txt\",\"a\")\n"
   ]
  },
  {
   "cell_type": "code",
   "execution_count": 13,
   "id": "92c27d34-2796-4e6c-ae09-78b55b41683d",
   "metadata": {},
   "outputs": [],
   "source": [
    "o1.close()"
   ]
  },
  {
   "cell_type": "code",
   "execution_count": 14,
   "id": "9149252a-fc38-4dc9-ab53-68fb66ddc5af",
   "metadata": {},
   "outputs": [],
   "source": [
    "o1 =open(\"sample file.txt\",\"r\")\n"
   ]
  },
  {
   "cell_type": "code",
   "execution_count": 15,
   "id": "c03da213-570c-418e-b39b-90c596b70bd4",
   "metadata": {},
   "outputs": [
    {
     "data": {
      "text/plain": [
       "'i live in suratsurat is best citysurat is best citysurat is best citysurat is best citysurat is best city'"
      ]
     },
     "execution_count": 15,
     "metadata": {},
     "output_type": "execute_result"
    }
   ],
   "source": [
    "o1.read()"
   ]
  },
  {
   "cell_type": "code",
   "execution_count": null,
   "id": "a5689aed-c269-4334-9925-2496d88fa656",
   "metadata": {},
   "outputs": [],
   "source": [
    "# 74.Write a Python program to read first n lines of a file."
   ]
  },
  {
   "cell_type": "code",
   "execution_count": 25,
   "id": "7c7c13b3-f758-48cd-a8c4-49b7af6264a3",
   "metadata": {},
   "outputs": [
    {
     "name": "stdout",
     "output_type": "stream",
     "text": [
      "i live in suratsurat is best citysurat is best citysurat is best citysurat is best citysurat is best city\n"
     ]
    }
   ],
   "source": [
    "o1.seek(0)\n",
    "for line in o1 :\n",
    "    print(line)"
   ]
  },
  {
   "cell_type": "code",
   "execution_count": null,
   "id": "fafad04e-9ed8-4c67-9c22-c3f23e276cf1",
   "metadata": {},
   "outputs": [],
   "source": [
    "# 75.)Write a Python program to read last n lines of a file."
   ]
  },
  {
   "cell_type": "code",
   "execution_count": 94,
   "id": "9976221b-727b-436e-9fde-eef8b6402837",
   "metadata": {},
   "outputs": [
    {
     "name": "stdin",
     "output_type": "stream",
     "text": [
      "value 2\n"
     ]
    }
   ],
   "source": [
    "n=int(input(\"value\"))\n",
    "f = open(\"sample file.txt\",\"r\")\n",
    "for line in(f.readlines()[n:]):\n",
    "    print(line,end=\"\")\n",
    "\n",
    "f.close()"
   ]
  },
  {
   "cell_type": "code",
   "execution_count": null,
   "id": "e00d9856-c925-4850-bb05-b88e71e84b7c",
   "metadata": {},
   "outputs": [],
   "source": [
    "# 76.Write a Python program to read a file line by line and store it into a list"
   ]
  },
  {
   "cell_type": "code",
   "execution_count": 128,
   "id": "261a853c-a9f7-42e5-bce4-09462d63638b",
   "metadata": {},
   "outputs": [],
   "source": [
    "o1=open(\"sample file.txt\",\"w\")"
   ]
  },
  {
   "cell_type": "code",
   "execution_count": 129,
   "id": "1f103c9c-7630-489c-8156-dc668843cc92",
   "metadata": {},
   "outputs": [
    {
     "data": {
      "text/plain": [
       "67"
      ]
     },
     "execution_count": 129,
     "metadata": {},
     "output_type": "execute_result"
    }
   ],
   "source": [
    "o1.write(\"Python program to read a file line by line and store it into a list\")"
   ]
  },
  {
   "cell_type": "code",
   "execution_count": 79,
   "id": "f2146667-c62c-4ddd-8616-26d5ff4fe837",
   "metadata": {},
   "outputs": [],
   "source": [
    "o1.close()"
   ]
  },
  {
   "cell_type": "code",
   "execution_count": 135,
   "id": "88eb70bc-56b9-48ad-9500-774c88fab021",
   "metadata": {},
   "outputs": [],
   "source": [
    "o1=open(\"sample file.txt\",\"r\")"
   ]
  },
  {
   "cell_type": "code",
   "execution_count": 136,
   "id": "89e99816-d366-4dec-a160-591f5220817c",
   "metadata": {},
   "outputs": [
    {
     "data": {
      "text/plain": [
       "'Python program to read a file line by line and store it into a list'"
      ]
     },
     "execution_count": 136,
     "metadata": {},
     "output_type": "execute_result"
    }
   ],
   "source": [
    "o1.read()"
   ]
  },
  {
   "cell_type": "code",
   "execution_count": 41,
   "id": "43b134b5-cc3c-43db-b5af-d062b410c064",
   "metadata": {},
   "outputs": [
    {
     "name": "stdout",
     "output_type": "stream",
     "text": [
      "['Python program to read a file line by line and store it into a list']\n"
     ]
    }
   ],
   "source": [
    "f = open(\"sample file.txt\",\"r\")\n",
    "lines = [line for line in f]\n",
    "print(lines)"
   ]
  },
  {
   "cell_type": "code",
   "execution_count": null,
   "id": "f2894123-3578-445f-b6d0-c696cdfc1147",
   "metadata": {},
   "outputs": [],
   "source": [
    "# 77.Write a Python program to read a file line by line store it into a variable"
   ]
  },
  {
   "cell_type": "code",
   "execution_count": 137,
   "id": "f6eeaaf5-7272-42be-8366-282241e7c0ff",
   "metadata": {},
   "outputs": [
    {
     "name": "stdout",
     "output_type": "stream",
     "text": [
      "Python program to read a file line by line and store it into a list\n"
     ]
    }
   ],
   "source": [
    "with open (\"sample file.txt\",\"r\")as file:\n",
    "    lines = file=file.readlines()\n",
    "\n",
    "my_variable=''.join([line.strip() for line in lines])\n",
    "print(my_variable)"
   ]
  },
  {
   "cell_type": "code",
   "execution_count": null,
   "id": "95dc29aa-f878-4c69-bbc6-8091cff40f44",
   "metadata": {},
   "outputs": [],
   "source": [
    "# 78.Write a python program to find the longest words"
   ]
  },
  {
   "cell_type": "code",
   "execution_count": 72,
   "id": "3c200ace-a7c9-4cc2-9cde-8b625122cf94",
   "metadata": {},
   "outputs": [
    {
     "name": "stdout",
     "output_type": "stream",
     "text": [
      "kgil\n"
     ]
    }
   ],
   "source": [
    "def find_longest_word (words_list):\n",
    "    word_len=[]\n",
    "    for n in words_list:\n",
    "        word_len.append((len(n),n))\n",
    "        word_len.sort()\n",
    "        return word_len [-1][1]\n",
    "\n",
    "print(find_longest_word([\"kgil\",\"hfj\",\"m\",\"nj\"]))"
   ]
  },
  {
   "cell_type": "code",
   "execution_count": null,
   "id": "ab4215fa-d9c7-4da1-91d7-d33d09f7f6ce",
   "metadata": {},
   "outputs": [],
   "source": [
    "79.Write a Python program to count the number of lines in a text file."
   ]
  },
  {
   "cell_type": "code",
   "execution_count": 113,
   "id": "e72f7c4f-a11e-44a5-9666-498c20016bd1",
   "metadata": {},
   "outputs": [],
   "source": [
    "a1 =open(\"sample file.txt\",\"w\")"
   ]
  },
  {
   "cell_type": "code",
   "execution_count": 114,
   "id": "f6ef22a8-d2f1-4a0b-83fb-a10a4f12fa68",
   "metadata": {},
   "outputs": [
    {
     "data": {
      "text/plain": [
       "18"
      ]
     },
     "execution_count": 114,
     "metadata": {},
     "output_type": "execute_result"
    }
   ],
   "source": [
    "a1.write(\"hello,how are you \")"
   ]
  },
  {
   "cell_type": "code",
   "execution_count": null,
   "id": "76882c63-d81f-4ed9-9388-d5e4d3f953f9",
   "metadata": {},
   "outputs": [],
   "source": [
    "80.Write a Python program to count the frequency of words in a file"
   ]
  },
  {
   "cell_type": "code",
   "execution_count": 104,
   "id": "e6167358-1e30-4709-8abe-bc9cd008010e",
   "metadata": {},
   "outputs": [],
   "source": [
    "a1=open(\"sample file.txt\",\"r\")"
   ]
  },
  {
   "cell_type": "code",
   "execution_count": 105,
   "id": "5b2ac5b5-8c39-43c9-912b-2e5b5b69ab9d",
   "metadata": {},
   "outputs": [
    {
     "name": "stdout",
     "output_type": "stream",
     "text": [
      "hellohello,how are you \n",
      "\n",
      "you occurs:1\n"
     ]
    }
   ],
   "source": [
    "data1 =a1.read()\n",
    "a1.close()\n",
    "print(data1)\n",
    "special_char=\",.?/\"\n",
    "for schar in special_char:\n",
    "    if schar in data1:\n",
    "        data1 = data1.replace(schar,\"\")\n",
    "print(data)\n",
    "word_list =data1.split()\n",
    "word_count ={}\n",
    "for word in word_list:\n",
    "    if word in word_count:\n",
    "        word_count[word]+=1\n",
    "\n",
    "else:\n",
    "    word_count[word]=1\n",
    "\n",
    "for key,value in word_count.items():\n",
    "    print(f\"{key} occurs:{value}\")\n",
    "          "
   ]
  },
  {
   "cell_type": "code",
   "execution_count": null,
   "id": "7bb31042-684c-49b5-8a43-b6da6e9acf77",
   "metadata": {},
   "outputs": [],
   "source": [
    "81.Write a Python program to write a list to a file."
   ]
  },
  {
   "cell_type": "code",
   "execution_count": 119,
   "id": "5d203a5f-7b50-4581-9ad6-75ca73f2b6c4",
   "metadata": {},
   "outputs": [],
   "source": [
    "a1=open(\"sample file.txt\",\"w\")"
   ]
  },
  {
   "cell_type": "code",
   "execution_count": 120,
   "id": "b4b04410-33c8-4fba-a51a-108434a0bacc",
   "metadata": {},
   "outputs": [
    {
     "data": {
      "text/plain": [
       "16"
      ]
     },
     "execution_count": 120,
     "metadata": {},
     "output_type": "execute_result"
    }
   ],
   "source": [
    "a1.write(\"data inside file\")"
   ]
  },
  {
   "cell_type": "code",
   "execution_count": 121,
   "id": "e4ccbac8-4a62-40fa-9558-25456296066b",
   "metadata": {},
   "outputs": [],
   "source": [
    "a1.close()"
   ]
  },
  {
   "cell_type": "code",
   "execution_count": 126,
   "id": "1e4bc030-a0b5-4a1d-b9eb-5f63f5d9a6c8",
   "metadata": {},
   "outputs": [
    {
     "name": "stdout",
     "output_type": "stream",
     "text": [
      "['data inside file']\n"
     ]
    },
    {
     "data": {
      "text/plain": [
       "list"
      ]
     },
     "execution_count": 126,
     "metadata": {},
     "output_type": "execute_result"
    }
   ],
   "source": [
    "with open (\"sample file.txt\",\"w\") as file:\n",
    "    my_list=[\"data inside file\"]\n",
    "    file.writelines(\"\\n\".join(my_list))\n",
    "    print(my_list)\n",
    "type(my_list)"
   ]
  },
  {
   "cell_type": "code",
   "execution_count": 109,
   "id": "2be7c2ae-e1f6-43c7-b5fe-283d7ac50145",
   "metadata": {},
   "outputs": [],
   "source": [
    "source= input(\"file\")\n",
    "target=input(\"file\")\n",
    "try:\n",
    "    shutil.copy(source,target)\n",
    "    print(\"source file content copied to target\")\n",
    "except filenotfounderror:\n",
    "    print(\"the given source file does not exist\")"
   ]
  },
  {
   "cell_type": "markdown",
   "id": "fbd5c634-36f0-4b81-9d22-a71698c6717c",
   "metadata": {},
   "source": [
    "83.Explain Exception handling? What is an Error in Python?"
   ]
  },
  {
   "cell_type": "code",
   "execution_count": null,
   "id": "1dab1a74-db58-44c5-9037-e683387b49fb",
   "metadata": {},
   "outputs": [],
   "source": [
    "ans :- Exception handling in Python uses try, except, else, and finally blocks to manage errors and ensure smooth execution.\n",
    "        Errors in Python are categorized as syntax errors or exceptions (e.g., ValueError, ZeroDivisionError).\n",
    "        Proper handling allows programs to continue running even when unexpected issues arise."
   ]
  },
  {
   "cell_type": "code",
   "execution_count": null,
   "id": "05a5afb7-84b3-4cfe-8c67-5229adde813f",
   "metadata": {},
   "outputs": [],
   "source": [
    "84.How many except statements can a try-except block have? Name\n",
    "Some built-in exception classes:"
   ]
  },
  {
   "cell_type": "code",
   "execution_count": null,
   "id": "007ca489-5a6c-4d9d-9191-3b3e4374d01d",
   "metadata": {},
   "outputs": [],
   "source": [
    "ans:-A try-except block in Python can have multiple except statements to handle various exceptions. \n",
    "        Some built-in exception classes include ValueError, TypeError, IndexError, KeyError, AttributeError, \n",
    "        IOError, FileNotFoundError, and ZeroDivisionError. These help in catching and managing different types of errors effectively."
   ]
  },
  {
   "cell_type": "code",
   "execution_count": null,
   "id": "956356af-90a8-40ff-88cc-09eb9f36cebb",
   "metadata": {},
   "outputs": [],
   "source": [
    "85)When will the else part of try-except-else be executed?\n"
   ]
  },
  {
   "cell_type": "code",
   "execution_count": null,
   "id": "291a4d37-da25-473e-a586-011ef8c6dc83",
   "metadata": {},
   "outputs": [],
   "source": [
    "ans:-The else part of a try-except-else block executes only if no exceptions are raised in the try block. \n",
    "        This means the else block runs when the code in the try block completes successfully. If an exception occurs, the else block is skipped."
   ]
  },
  {
   "cell_type": "code",
   "execution_count": null,
   "id": "0ed2188e-e36b-4112-8335-689cfa6b5390",
   "metadata": {},
   "outputs": [],
   "source": [
    "86.Can one block of except statements handle multiple exception"
   ]
  },
  {
   "cell_type": "code",
   "execution_count": null,
   "id": "2ee29b0e-dced-471f-b533-239095070e3d",
   "metadata": {},
   "outputs": [],
   "source": [
    "ans:- Yes, a single except block can handle multiple exceptions by specifying a tuple of exception classes. \n",
    "        This allows the block to catch any of the specified exceptions and handle them together. \n",
    "        For example, except (ValueError, ZeroDivisionError) as e: will catch both ValueError and ZeroDivisionError. \n",
    "        This approach simplifies handling related exceptions with the same logic."
   ]
  },
  {
   "cell_type": "code",
   "execution_count": null,
   "id": "6b017501-a496-4115-b022-08efdd3ee922",
   "metadata": {},
   "outputs": [],
   "source": [
    "87)When is the finally block executed?"
   ]
  },
  {
   "cell_type": "code",
   "execution_count": null,
   "id": "c0f2e2f7-cd85-4519-98c0-a63d28d5ab76",
   "metadata": {},
   "outputs": [],
   "source": [
    "ans:-The finally block is executed regardless of whether an exception occurs or not. \n",
    "    It runs after the try and except blocks, ensuring that cleanup actions are performed. \n",
    "    This guarantees that the code in the finally block always executes, even if an error was caught or if there were no exceptions at all."
   ]
  },
  {
   "cell_type": "code",
   "execution_count": null,
   "id": "6b326a98-6ab6-422a-8ab5-a3d8c94a4e36",
   "metadata": {},
   "outputs": [],
   "source": [
    "89.How Do You Handle Exceptions with Try/Except/Finally in Python?\n",
    "    Explain with coding snippets."
   ]
  },
  {
   "cell_type": "code",
   "execution_count": null,
   "id": "80e797a5-3290-468f-ada8-e2e84e58a4d8",
   "metadata": {},
   "outputs": [],
   "source": [
    "ans:-Handling exceptions in Python involves using try, except, and finally blocks to manage errors and ensure certain code is executed \n",
    "        regardless of what happens. Here’s a comprehensive explanation with code snippets:"
   ]
  }
 ],
 "metadata": {
  "kernelspec": {
   "display_name": "Python 3 (ipykernel)",
   "language": "python",
   "name": "python3"
  },
  "language_info": {
   "codemirror_mode": {
    "name": "ipython",
    "version": 3
   },
   "file_extension": ".py",
   "mimetype": "text/x-python",
   "name": "python",
   "nbconvert_exporter": "python",
   "pygments_lexer": "ipython3",
   "version": "3.12.4"
  }
 },
 "nbformat": 4,
 "nbformat_minor": 5
}
